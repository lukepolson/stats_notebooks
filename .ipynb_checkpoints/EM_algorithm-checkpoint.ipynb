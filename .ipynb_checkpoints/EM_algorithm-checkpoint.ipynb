{
 "cells": [
  {
   "cell_type": "code",
   "execution_count": 1,
   "metadata": {},
   "outputs": [],
   "source": [
    "import numpy as np\n",
    "import matplotlib.pyplot as plt\n",
    "plt.style.use(['science', 'notebook'])\n",
    "import scipy as sp\n",
    "import sympy as smp\n",
    "from scipy.stats import rv_discrete\n",
    "from scipy.stats import poisson"
   ]
  },
  {
   "cell_type": "markdown",
   "metadata": {},
   "source": [
    "# Problem 1: Binomial "
   ]
  },
  {
   "cell_type": "markdown",
   "metadata": {},
   "source": [
    "Phenotype is measured and genotype is a latent random variable. Want to determine $p_A$, $p_B$, and $p_O$ so one can get the genotype frequencies (assumes Hard-Wienberg model)."
   ]
  },
  {
   "cell_type": "markdown",
   "metadata": {},
   "source": [
    "![image](blood.PNG)"
   ]
  },
  {
   "cell_type": "markdown",
   "metadata": {},
   "source": [
    "$$N_{A} = N_{AA} + N_{AO}$$\n",
    "$$N_{B} = N_{BB} + N_{BO}$$\n",
    "$$N_{O} = N_{O}$$\n",
    "$$N_{AB} = N_{AB}$$\n",
    "\n",
    "and $$p(n_a, n_b, n_o, n_{ab}| p_A, p_B, p_O) \\propto (p_A^2 + 2p_Ap_O)^{n_A}\\cdot (p_B^2 + 2p_Bp_O)^{n_B} \\cdot (p_O^2)^{n_O} \\cdot (2p_Ap_B)^{n_{AB}} $$\n",
    "\n",
    "Want to estimate $p_A$, $p_B$, and $p_O$.\n",
    "\n",
    "## Observed Data Liklihood\n",
    "$$L(p_A, p_B, p_O | n_a, n_b, n_o, n_{ab}) \\propto (p_A^2 + 2p_Ap_O)^{n_A}\\cdot (p_B^2 + 2p_Bp_O)^{n_B} \\cdot (p_O^2)^{n_O} \\cdot (2p_Ap_B)^{n_{AB}} $$\n",
    "## Complete Data Liklihood\n",
    "$$L_C(p_A, p_B, p_O | n_{AA}, n_{AO}, n_{BB}, n_{BO}, n_{OO}, n_{AB}) \\propto (p_A^2)^{n_{AA}} \\cdot (2p_Ap_O)^{n_{AO}} \\cdot (p_B^2)^{n_{BB}} \\cdot (2p_Bp_O)^{n_{BO}} \\cdot (p_O^2)^{n_{OO}} \\cdot (2p_Ap_B)^{n_{AB}}$$ \n",
    "\n",
    "## E-Step\n",
    "Let $n_X$ be one of the latent random variables representing genotype. Compute $$n_{X}^{(k+1)} = E[n_{X}|n_{A}, n_{B}, n_{O}, n_{AB}, p^{(k)}s]$$ For example, $n_{AA} = n_A\\frac{p_A^2}{p_A^2+2p_Ap_O}$. This would normally be computed using observed data likelihood but in this case its straightforward.\n",
    "\n",
    "## M-Step\n",
    "Maximize complete data log likelihood with $n_{X}$ replaced with $n_{X}^{(k+1)}$ to get new estimates for $p^{k}$s. This requires computing derivatives of complete data liklihood:"
   ]
  },
  {
   "cell_type": "code",
   "execution_count": 2,
   "metadata": {},
   "outputs": [],
   "source": [
    "import sympy as smp\n",
    "pa, pb, po, naa, nao, nbb, nbo, noo, nab = smp.symbols('p_{A}, p_B, p_O, n_{AA}, n_{AO}, n_{BB}, n_{BO}, n_{OO}, n_{AB}', positive=True, real=True)"
   ]
  },
  {
   "cell_type": "markdown",
   "metadata": {},
   "source": [
    "Define log liklihood"
   ]
  },
  {
   "cell_type": "code",
   "execution_count": 3,
   "metadata": {},
   "outputs": [
    {
     "data": {
      "text/latex": [
       "$\\displaystyle 2 n_{AA} \\log{\\left(p_{A} \\right)} + n_{AB} \\left(\\log{\\left(p_{B} \\right)} + \\log{\\left(p_{A} \\right)} + \\log{\\left(2 \\right)}\\right) + n_{AO} \\left(\\log{\\left(p_{O} \\right)} + \\log{\\left(p_{A} \\right)} + \\log{\\left(2 \\right)}\\right) + 2 n_{BB} \\log{\\left(p_{B} \\right)} + n_{BO} \\left(\\log{\\left(p_{B} \\right)} + \\log{\\left(p_{O} \\right)} + \\log{\\left(2 \\right)}\\right) + 2 n_{OO} \\log{\\left(p_{O} \\right)}$"
      ],
      "text/plain": [
       "2*n_{AA}*log(p_{A}) + n_{AB}*(log(p_B) + log(p_{A}) + log(2)) + n_{AO}*(log(p_O) + log(p_{A}) + log(2)) + 2*n_{BB}*log(p_B) + n_{BO}*(log(p_B) + log(p_O) + log(2)) + 2*n_{OO}*log(p_O)"
      ]
     },
     "execution_count": 3,
     "metadata": {},
     "output_type": "execute_result"
    }
   ],
   "source": [
    "Lc = (pa**2)**(naa) *(2*pa*po)**(nao) * (pb**2)**nbb * (2*pb*po)**(nbo) * (po**2)**(noo)*(2*pa*pb)**(nab)\n",
    "log_LC = smp.expand_log(smp.log(Lc))\n",
    "log_LC"
   ]
  },
  {
   "cell_type": "markdown",
   "metadata": {},
   "source": [
    "Solve for $\\hat{p}_A$ and $\\hat{p}_B$ in two equations, producing a system of linear equations"
   ]
  },
  {
   "cell_type": "code",
   "execution_count": 4,
   "metadata": {},
   "outputs": [
    {
     "data": {
      "text/latex": [
       "$\\displaystyle \\left\\{\\left( \\frac{n_{AA} + \\frac{n_{AB}}{2} + \\frac{n_{AO}}{2}}{n_{AA} + n_{AB} + n_{AO} + n_{BB} + n_{BO} + n_{OO}}, \\  \\frac{\\frac{n_{AB}}{2} + n_{BB} + \\frac{n_{BO}}{2}}{n_{AA} + n_{AB} + n_{AO} + n_{BB} + n_{BO} + n_{OO}}\\right)\\right\\}$"
      ],
      "text/plain": [
       "FiniteSet(((n_{AA} + n_{AB}/2 + n_{AO}/2)/(n_{AA} + n_{AB} + n_{AO} + n_{BB} + n_{BO} + n_{OO}), (n_{AB}/2 + n_{BB} + n_{BO}/2)/(n_{AA} + n_{AB} + n_{AO} + n_{BB} + n_{BO} + n_{OO})))"
      ]
     },
     "execution_count": 4,
     "metadata": {},
     "output_type": "execute_result"
    }
   ],
   "source": [
    "pa_hat = smp.solve(smp.diff(log_LC.subs(po, 1-pa-pb), pa), pa)[0]\n",
    "pb_hat =smp.solve(smp.diff(log_LC.subs(po, 1-pa-pb), pb), pb)[0]\n",
    "smp.linsolve([pa-pa_hat, pb-pb_hat], (pa, pb))"
   ]
  },
  {
   "cell_type": "markdown",
   "metadata": {},
   "source": [
    "This means\n",
    "\n",
    "$$\\hat{p}_A^{(k+1)} = \\frac{2n_{AA}^{(k+1)}+n_{AB}^{(k+1)}+n_{AO}^{(k+1)}}{2n} \\hspace{10mm} \\hat{p}_B^{(k+1)} = \\frac{2n_{BB}^{(k+1)}+n_{AB}^{(k+1)}+n_{AO}^{(k+1)}}{2n}$$"
   ]
  },
  {
   "cell_type": "markdown",
   "metadata": {},
   "source": [
    "## Implementing the Algorithm"
   ]
  },
  {
   "cell_type": "markdown",
   "metadata": {},
   "source": [
    "True values and data"
   ]
  },
  {
   "cell_type": "code",
   "execution_count": 5,
   "metadata": {},
   "outputs": [],
   "source": [
    "pt_A = 0.15\n",
    "pt_B = 0.8\n",
    "pt_O = 1 - pt_A - pt_B"
   ]
  },
  {
   "cell_type": "code",
   "execution_count": 6,
   "metadata": {},
   "outputs": [],
   "source": [
    "ps = np.array([pt_A**2, 2*pt_A*pt_O, pt_B**2, 2*pt_B*pt_O, pt_O**2, 2*pt_A*pt_B])\n",
    "types = np.arange(0, 6, 1)\n",
    "type_dict = {'AA': 0, 'AO':1, 'BB':2, 'BO':3, 'OO':4, 'AB':5}"
   ]
  },
  {
   "cell_type": "code",
   "execution_count": 7,
   "metadata": {},
   "outputs": [],
   "source": [
    "blood_rv = rv_discrete(values=(types, ps))\n",
    "data = blood_rv.rvs(size=1000)\n",
    "nA = sum((data==type_dict['AA']) + (data==type_dict['AO']))\n",
    "nB = sum((data==type_dict['BB']) + (data==type_dict['BO']))\n",
    "nO = sum(data==type_dict['OO'])\n",
    "nAB = sum(data==type_dict['AB'])"
   ]
  },
  {
   "cell_type": "code",
   "execution_count": 8,
   "metadata": {},
   "outputs": [
    {
     "data": {
      "text/plain": [
       "[44, 706, 2, 248]"
      ]
     },
     "execution_count": 8,
     "metadata": {},
     "output_type": "execute_result"
    }
   ],
   "source": [
    "[nA, nB, nO, nAB]"
   ]
  },
  {
   "cell_type": "markdown",
   "metadata": {},
   "source": [
    "Get maximum likelihood estimator of $p_A$, $p_B$, and $p_O$."
   ]
  },
  {
   "cell_type": "code",
   "execution_count": 9,
   "metadata": {},
   "outputs": [],
   "source": [
    "def E_step(na, nb, no, nab, pa, pb, po):\n",
    "    return [na*pa**2 / (pa**2 + 2*pa*po) , #naa\n",
    "            nb*pb**2 / (pb**2 + 2*pb*po) , #nbb\n",
    "            na*2*pa*po / (pa**2 + 2*pa*po) , #nao\n",
    "            nb*2*pb*po / (pb**2 + 2*pb*po) , #nbo\n",
    "            no, #noo\n",
    "            nab] #nab\n",
    "def M_step(naa, nbb, nab, nao, nbo, noo):\n",
    "    n = naa+nbb+nab+nao+nbo+noo\n",
    "    pa = (2*naa+nab+nao)/(2*n)\n",
    "    pb = (2*nbb+nab+nbo)/(2*n)\n",
    "    po = 1-pa-pb\n",
    "    return pa, pb, po"
   ]
  },
  {
   "cell_type": "markdown",
   "metadata": {},
   "source": [
    "Run algorithm"
   ]
  },
  {
   "cell_type": "code",
   "execution_count": 10,
   "metadata": {},
   "outputs": [],
   "source": [
    "pa0 = pb0 = po0 = 1/3.\n",
    "pas = [pa0]; pbs = [pb0]; pos = [po0]"
   ]
  },
  {
   "cell_type": "code",
   "execution_count": 11,
   "metadata": {},
   "outputs": [],
   "source": [
    "for i in range(20):\n",
    "    pa, pb, po = pas[-1], pbs[-1], pos[-1]\n",
    "    # E Step\n",
    "    naa, nbb, nao, nbo, noo, nab = E_step(nA, nB, nO, nAB, pa, pb, po)\n",
    "    # M Step\n",
    "    pa_new, pb_new, po_new = M_step(naa, nbb, nab, nao, nbo, noo)\n",
    "    pas.append(pa_new); pbs.append(pb_new); pos.append(po_new)    "
   ]
  },
  {
   "cell_type": "code",
   "execution_count": 12,
   "metadata": {},
   "outputs": [
    {
     "data": {
      "text/plain": [
       "<matplotlib.lines.Line2D at 0x7f15943af9d0>"
      ]
     },
     "execution_count": 12,
     "metadata": {},
     "output_type": "execute_result"
    },
    {
     "data": {
      "image/png": "[encoded data removed]",
      "text/plain": [
       "<Figure size 576x432 with 1 Axes>"
      ]
     },
     "metadata": {
      "needs_background": "light"
     },
     "output_type": "display_data"
    }
   ],
   "source": [
    "ns = np.arange(0, len(pas), 1)\n",
    "plt.scatter(ns, pas, label='$\\hat{p}_a$')\n",
    "plt.scatter(ns, pbs, label='$\\hat{p}_b$')\n",
    "plt.scatter(ns, pos, label='$\\hat{p}_o$')\n",
    "plt.xlabel('Iterations')\n",
    "plt.ylabel('Probability')\n",
    "plt.legend(ncol=3)\n",
    "plt.axhline(pt_A, color='k', ls='--')\n",
    "plt.axhline(pt_B, color='k', ls='--')\n",
    "plt.axhline(pt_O, color='k', ls='--')\n",
    "\n",
    "#plt.ylim(top=0.6)"
   ]
  },
  {
   "cell_type": "markdown",
   "metadata": {},
   "source": [
    "# Poisson Mixture"
   ]
  },
  {
   "cell_type": "code",
   "execution_count": 13,
   "metadata": {},
   "outputs": [],
   "source": [
    "a = poisson.rvs(mu= 5, size=10000)\n",
    "b = poisson.rvs(mu= 10, size=10000)"
   ]
  },
  {
   "cell_type": "code",
   "execution_count": 17,
   "metadata": {},
   "outputs": [
    {
     "data": {
      "text/plain": [
       "[]"
      ]
     },
     "execution_count": 17,
     "metadata": {},
     "output_type": "execute_result"
    },
    {
     "data": {
      "image/png": "[encoded data removed]",
      "text/plain": [
       "<Figure size 576x432 with 1 Axes>"
      ]
     },
     "metadata": {
      "needs_background": "light"
     },
     "output_type": "display_data"
    }
   ],
   "source": [
    "bins = np.arange(-0.5, 40.5, 1)\n",
    "plt.hist(a+b, bins=bins)\n",
    "plt.plot()"
   ]
  }
 ],
 "metadata": {
  "kernelspec": {
   "display_name": "Python 3",
   "language": "python",
   "name": "python3"
  },
  "language_info": {
   "codemirror_mode": {
    "name": "ipython",
    "version": 3
   },
   "file_extension": ".py",
   "mimetype": "text/x-python",
   "name": "python",
   "nbconvert_exporter": "python",
   "pygments_lexer": "ipython3",
   "version": "3.8.5"
  }
 },
 "nbformat": 4,
 "nbformat_minor": 4
}
