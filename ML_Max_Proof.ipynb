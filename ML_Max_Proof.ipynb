{
 "cells": [
  {
   "cell_type": "code",
   "execution_count": 2,
   "metadata": {},
   "outputs": [],
   "source": [
    "import numpy as np\n",
    "import sympy as smp"
   ]
  },
  {
   "cell_type": "code",
   "execution_count": 52,
   "metadata": {},
   "outputs": [],
   "source": [
    "x, i, j, n, t, sig2 = smp.symbols(r\"x i j n \\theta \\sigma^2\")"
   ]
  },
  {
   "cell_type": "markdown",
   "metadata": {},
   "source": [
    "Define log likelihood"
   ]
  },
  {
   "cell_type": "code",
   "execution_count": 36,
   "metadata": {},
   "outputs": [
    {
     "data": {
      "text/latex": [
       "$\\displaystyle - \\frac{n \\log{\\left(\\sigma^2 \\right)}}{2} - \\frac{n \\log{\\left(2 \\pi \\right)}}{2} - \\frac{0.5 \\sum_{i=0}^{n} \\left(- \\theta + {x}_{i}\\right)^{2}}{\\sigma^2}$"
      ],
      "text/plain": [
       "-n*log(\\sigma^2)/2 - n*log(2*pi)/2 - 0.5*Sum((-\\theta + x[i])**2, (i, 0, n))/\\sigma^2"
      ]
     },
     "execution_count": 36,
     "metadata": {},
     "output_type": "execute_result"
    }
   ],
   "source": [
    "s = smp.Sum((smp.Indexed('x',i)-t)**2,(i,0,n))\n",
    "lnL = -n/2 * smp.ln(2*smp.pi) - n/2 * smp.ln(sig2) - 1/2 * s/sig2\n",
    "lnL"
   ]
  },
  {
   "cell_type": "markdown",
   "metadata": {},
   "source": [
    "Define ML Estimators"
   ]
  },
  {
   "cell_type": "code",
   "execution_count": 53,
   "metadata": {},
   "outputs": [],
   "source": [
    "t_hat = 1/n * smp.Sum(smp.Indexed('x',j),(j,0,n))\n",
    "sig2_hat = 1/n * s"
   ]
  },
  {
   "cell_type": "markdown",
   "metadata": {},
   "source": [
    "# A: Show First Order Partials = 0"
   ]
  },
  {
   "cell_type": "code",
   "execution_count": 66,
   "metadata": {},
   "outputs": [
    {
     "data": {
      "text/latex": [
       "$\\displaystyle \\frac{1.0 \\sum_{i=0}^{n} {x}_{i}}{\\sigma^2} - \\frac{1.0 \\sum_{\\substack{0 \\leq j \\leq n\\\\0 \\leq i \\leq n}} {x}_{j}}{\\sigma^2 n}$"
      ],
      "text/plain": [
       "1.0*Sum(x[i], (i, 0, n))/\\sigma^2 - 1.0*Sum(x[j], (j, 0, n), (i, 0, n))/(\\sigma^2*n)"
      ]
     },
     "execution_count": 66,
     "metadata": {},
     "output_type": "execute_result"
    }
   ],
   "source": [
    "smp.diff(lnL, t).subs(t, t_hat).simplify().expand().doit()"
   ]
  },
  {
   "cell_type": "code",
   "execution_count": 95,
   "metadata": {},
   "outputs": [
    {
     "data": {
      "text/latex": [
       "$\\displaystyle \\sum_{\\substack{0 \\leq i \\leq n\\\\0 \\leq j \\leq n}} {x}_{i}$"
      ],
      "text/plain": [
       "Sum(x[i], (i, 0, n), (j, 0, n))"
      ]
     },
     "execution_count": 95,
     "metadata": {},
     "output_type": "execute_result"
    }
   ],
   "source": [
    "smp.summation(smp.summation(smp.Indexed('x',i), (i, 0, n)),(j,0,n))"
   ]
  },
  {
   "cell_type": "code",
   "execution_count": 78,
   "metadata": {},
   "outputs": [
    {
     "data": {
      "text/latex": [
       "$\\displaystyle \\left(n + 1\\right) {x}_{j}$"
      ],
      "text/plain": [
       "(n + 1)*x[j]"
      ]
     },
     "execution_count": 78,
     "metadata": {},
     "output_type": "execute_result"
    }
   ],
   "source": [
    "smp.summation(smp.Indexed('x',j), (i, 0, n)).doit()"
   ]
  },
  {
   "cell_type": "code",
   "execution_count": 92,
   "metadata": {},
   "outputs": [],
   "source": [
    "sum1 = smp.summation(smp.Indexed('x',i), (i,0,n), (j,0,n))"
   ]
  },
  {
   "cell_type": "code",
   "execution_count": 93,
   "metadata": {},
   "outputs": [
    {
     "data": {
      "text/latex": [
       "$\\displaystyle \\sum_{\\substack{0 \\leq i \\leq n\\\\0 \\leq j \\leq n}} {x}_{i}$"
      ],
      "text/plain": [
       "Sum(x[i], (i, 0, n), (j, 0, n))"
      ]
     },
     "execution_count": 93,
     "metadata": {},
     "output_type": "execute_result"
    }
   ],
   "source": [
    "sum1"
   ]
  },
  {
   "cell_type": "code",
   "execution_count": 97,
   "metadata": {},
   "outputs": [
    {
     "data": {
      "text/latex": [
       "$\\displaystyle \\sum_{\\substack{1 \\leq i \\leq n\\\\1 \\leq j \\leq n}} {x}_{i}$"
      ],
      "text/plain": [
       "Sum(x[i], (i, 1, n), (j, 1, n))"
      ]
     },
     "execution_count": 97,
     "metadata": {},
     "output_type": "execute_result"
    }
   ],
   "source": [
    "smp.summation(smp.Indexed('x',i), (i, 1, n), (j, 1, n))"
   ]
  },
  {
   "cell_type": "code",
   "execution_count": null,
   "metadata": {},
   "outputs": [],
   "source": []
  }
 ],
 "metadata": {
  "kernelspec": {
   "display_name": "Python 3",
   "language": "python",
   "name": "python3"
  },
  "language_info": {
   "codemirror_mode": {
    "name": "ipython",
    "version": 3
   },
   "file_extension": ".py",
   "mimetype": "text/x-python",
   "name": "python",
   "nbconvert_exporter": "python",
   "pygments_lexer": "ipython3",
   "version": "3.7.4"
  }
 },
 "nbformat": 4,
 "nbformat_minor": 4
}
